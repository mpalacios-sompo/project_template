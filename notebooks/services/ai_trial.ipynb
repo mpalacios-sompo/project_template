{
 "cells": [
  {
   "cell_type": "markdown",
   "id": "d0a7dd83",
   "metadata": {},
   "source": [
    "Point to the correct directory"
   ]
  },
  {
   "cell_type": "code",
   "execution_count": 1,
   "id": "10aed708",
   "metadata": {},
   "outputs": [],
   "source": [
    "import sys\n",
    "import os\n",
    "from dotenv import load_dotenv\n",
    "\n",
    "# Get the absolute path to the project root (the parent of notebooks folder)\n",
    "project_root = os.path.abspath(os.path.join(os.getcwd(), \"..\", \"..\"))\n",
    "\n",
    "# Add it to sys.path so Python can find 'src'\n",
    "if project_root not in sys.path:\n",
    "    sys.path.insert(0, project_root)\n",
    "\n",
    "# Now you can import\n",
    "from src.services.ai_processor import AIprocessor\n",
    "from models.pydantic_classes import *\n"
   ]
  },
  {
   "cell_type": "code",
   "execution_count": 2,
   "id": "7b47cf5e",
   "metadata": {},
   "outputs": [
    {
     "data": {
      "text/plain": [
       "True"
      ]
     },
     "execution_count": 2,
     "metadata": {},
     "output_type": "execute_result"
    }
   ],
   "source": [
    "from src.config import BASE_URL\n",
    "\n",
    "load_dotenv()"
   ]
  },
  {
   "cell_type": "markdown",
   "id": "e1f0d57e",
   "metadata": {},
   "source": [
    "Example usage: Normal response"
   ]
  },
  {
   "cell_type": "code",
   "execution_count": null,
   "id": "f1cd2725",
   "metadata": {},
   "outputs": [],
   "source": [
    "processor = AIprocessor(\n",
    "    base_url=BASE_URL, \n",
    "    api_key=os.getenv(\"API_KEY\"), \n",
    "    client=os.getenv(\"CLIENT_ID\"))"
   ]
  },
  {
   "cell_type": "code",
   "execution_count": null,
   "id": "d25c7298",
   "metadata": {},
   "outputs": [
    {
     "name": "stdout",
     "output_type": "stream",
     "text": [
      "content='Here are the valid capital-city and country pairs from the list:\\n\\n1. Paris, France\\n2. Rome, Italy\\n3. Berlin, Germany\\n4. Madrid, Spain' additional_kwargs={'refusal': None} response_metadata={'token_usage': {'completion_tokens': 37, 'prompt_tokens': 50, 'total_tokens': 87, 'completion_tokens_details': None, 'prompt_tokens_details': None}, 'model_name': 'gpt-4o-dev-default', 'system_fingerprint': 'fp_ee1d74bde0', 'id': 'chatcmpl-ByJdOUjiDjrdXoJHm2OBY2J8PX4B3', 'service_tier': None, 'finish_reason': 'Stop', 'logprobs': None, 'content_filter_results': {}} id='run--57abd9bb-0516-40f1-890d-6c4f18faf924-0' usage_metadata={'input_tokens': 50, 'output_tokens': 37, 'total_tokens': 87, 'input_token_details': {}, 'output_token_details': {}}\n"
     ]
    }
   ],
   "source": [
    "# Can specigy model, defaults to gpt-4\n",
    "response = processor.gpt_completion(\n",
    "    system_prompt=\"You will receive a list of cities and countries in the user message. Your job is to extract valid capital-city and country pairs\",\n",
    "    user_prompt=\"paris rome valencia madrid germany berlin tolouse madrid italy france\",\n",
    "    temperature=0,\n",
    "    max_tokens=1000\n",
    ")\n",
    "\n",
    "print(response)"
   ]
  },
  {
   "cell_type": "markdown",
   "id": "466a10e5",
   "metadata": {},
   "source": [
    "Example usage: Structured output"
   ]
  },
  {
   "cell_type": "code",
   "execution_count": 6,
   "id": "1211ab0c",
   "metadata": {},
   "outputs": [],
   "source": [
    "response = processor.gpt_completion(\n",
    "    system_prompt=\"You will receive a list of cities and countries in the user message. Your job is to extract valid capital-city and country pairs\",\n",
    "    user_prompt=\"paris rome valencia madrid germany berlin tolouse madrid italy france\",\n",
    "    pydantic_schema=Response,\n",
    "    temperature=0,\n",
    "    max_tokens=1000\n",
    ")"
   ]
  },
  {
   "cell_type": "code",
   "execution_count": 7,
   "id": "a726dcfb",
   "metadata": {},
   "outputs": [
    {
     "name": "stdout",
     "output_type": "stream",
     "text": [
      "{'responses': [{'city': 'Paris', 'country': 'France'}, {'city': 'Rome', 'country': 'Italy'}, {'city': 'Berlin', 'country': 'Germany'}, {'city': 'Madrid', 'country': 'Spain'}]}\n"
     ]
    }
   ],
   "source": [
    "print(response)"
   ]
  }
 ],
 "metadata": {
  "kernelspec": {
   "display_name": ".venv",
   "language": "python",
   "name": "python3"
  },
  "language_info": {
   "codemirror_mode": {
    "name": "ipython",
    "version": 3
   },
   "file_extension": ".py",
   "mimetype": "text/x-python",
   "name": "python",
   "nbconvert_exporter": "python",
   "pygments_lexer": "ipython3",
   "version": "3.11.0"
  }
 },
 "nbformat": 4,
 "nbformat_minor": 5
}
