{
 "cells": [
  {
   "cell_type": "markdown",
   "id": "d0a7dd83",
   "metadata": {},
   "source": [
    "Point to the correct directory"
   ]
  },
  {
   "cell_type": "code",
   "execution_count": 1,
   "id": "10aed708",
   "metadata": {},
   "outputs": [],
   "source": [
    "import sys\n",
    "import os\n",
    "from dotenv import load_dotenv\n",
    "\n",
    "# Get the absolute path to the project root (the parent of notebooks folder)\n",
    "project_root = os.path.abspath(os.path.join(os.getcwd(), \"..\", \"..\"))\n",
    "\n",
    "# Add it to sys.path so Python can find 'src'\n",
    "if project_root not in sys.path:\n",
    "    sys.path.insert(0, project_root)\n",
    "\n",
    "# Now you can import\n",
    "from src.services.ai_processor import AIProcessor\n",
    "from models.pydantic_classes import *\n"
   ]
  },
  {
   "cell_type": "code",
   "execution_count": 2,
   "id": "7b47cf5e",
   "metadata": {},
   "outputs": [
    {
     "data": {
      "text/plain": [
       "True"
      ]
     },
     "execution_count": 2,
     "metadata": {},
     "output_type": "execute_result"
    }
   ],
   "source": [
    "from src.config import BASE_URL\n",
    "\n",
    "load_dotenv()"
   ]
  },
  {
   "cell_type": "markdown",
   "id": "e1f0d57e",
   "metadata": {},
   "source": [
    "Example usage: Normal response"
   ]
  },
  {
   "cell_type": "code",
   "execution_count": 4,
   "id": "f1cd2725",
   "metadata": {},
   "outputs": [],
   "source": [
    "processor = AIProcessor(\n",
    "    base_url=BASE_URL, \n",
    "    api_key=os.getenv(\"API_KEY\"), \n",
    "    client=os.getenv(\"CLIENT_ID\"))"
   ]
  },
  {
   "cell_type": "code",
   "execution_count": 4,
   "id": "d25c7298",
   "metadata": {},
   "outputs": [
    {
     "name": "stdout",
     "output_type": "stream",
     "text": [
      "content='Here are the valid capital-city and country pairs from the list:\\n\\n1. Paris, France\\n2. Rome, Italy\\n3. Berlin, Germany\\n4. Madrid, Spain' additional_kwargs={'refusal': None} response_metadata={'token_usage': {'completion_tokens': 37, 'prompt_tokens': 50, 'total_tokens': 87, 'completion_tokens_details': None, 'prompt_tokens_details': None}, 'model_name': 'gpt-4o-dev-default', 'system_fingerprint': 'fp_ee1d74bde0', 'id': 'chatcmpl-C0pemDxtNeKgnBQXaDIHMUuIzPu3V', 'service_tier': None, 'finish_reason': 'Stop', 'logprobs': None, 'content_filter_results': {}} id='run--4a485e1e-d189-44b0-b721-d1b316966cff-0' usage_metadata={'input_tokens': 50, 'output_tokens': 37, 'total_tokens': 87, 'input_token_details': {}, 'output_token_details': {}}\n"
     ]
    }
   ],
   "source": [
    "# Can specigy model, defaults to gpt-4\n",
    "response = processor.generate_completion(\n",
    "    system_prompt=\"You will receive a list of cities and countries in the user message. Your job is to extract valid capital-city and country pairs\",\n",
    "    user_prompt=\"paris rome valencia madrid germany berlin tolouse madrid italy france\",\n",
    "    model=\"gpt-4o\",\n",
    "    temperature=0,\n",
    "    max_tokens=1000\n",
    ")\n",
    "\n",
    "print(response)"
   ]
  },
  {
   "cell_type": "markdown",
   "id": "466a10e5",
   "metadata": {},
   "source": [
    "Example usage: Structured output"
   ]
  },
  {
   "cell_type": "code",
   "execution_count": 5,
   "id": "1211ab0c",
   "metadata": {},
   "outputs": [],
   "source": [
    "response = processor.generate_completion(\n",
    "    system_prompt=\"You will receive a list of cities and countries in the user message. Your job is to extract valid capital-city and country pairs\",\n",
    "    user_prompt=\"paris rome valencia madrid germany berlin tolouse madrid italy france\",\n",
    "    pydantic_schema=Response,\n",
    "    temperature=0,\n",
    "    max_tokens=1000\n",
    ")"
   ]
  },
  {
   "cell_type": "code",
   "execution_count": 6,
   "id": "a726dcfb",
   "metadata": {},
   "outputs": [
    {
     "name": "stdout",
     "output_type": "stream",
     "text": [
      "{'response': [{'city': 'Paris', 'country': 'France'}, {'city': 'Rome', 'country': 'Italy'}, {'city': 'Berlin', 'country': 'Germany'}]}\n"
     ]
    }
   ],
   "source": [
    "print(response)"
   ]
  },
  {
   "cell_type": "markdown",
   "id": "cb21ab3c",
   "metadata": {},
   "source": [
    "Example usage: Getting the embeddings"
   ]
  },
  {
   "cell_type": "code",
   "execution_count": null,
   "id": "6ba480d1",
   "metadata": {},
   "outputs": [],
   "source": [
    "response = processor.generate_embeddings(\n",
    "    input_text=\"paris rome valencia madrid germany berlin tolouse madrid italy france\"\n",
    ")"
   ]
  },
  {
   "cell_type": "markdown",
   "id": "b0817d11",
   "metadata": {},
   "source": [
    "Example usage: Agents"
   ]
  },
  {
   "cell_type": "code",
   "execution_count": 8,
   "id": "87c7c591",
   "metadata": {},
   "outputs": [
    {
     "name": "stdout",
     "output_type": "stream",
     "text": [
      "[]\n"
     ]
    }
   ],
   "source": [
    "# List available agents\n",
    "agents = processor.list_agents()\n",
    "print(agents)"
   ]
  },
  {
   "cell_type": "code",
   "execution_count": 9,
   "id": "71641534",
   "metadata": {},
   "outputs": [
    {
     "data": {
      "text/plain": [
       "{'agentName': 'geolocation agent',\n",
       " 'clientId': 'middlemarketgb',\n",
       " 'instructions': \"You are a tool-using assistant designed specifically for geocoding (finding coordinates for an address or vice versa) and computing routes between locations.\\n\\nStrictly follow these rules:\\n- Your responses must be very concise and strictly professional—they are intended for GIS/business users, not for consumer or traveler enquiries.\\n- You must ALWAYS call the correct tool for every actionable user request, never answer directly from your own knowledge.\\n- Use the geocoding tool for address-to-coordinates or coordinates-to-address queries. If the user provides an address or a pair of latitude and longitude, call the geocoding tool immediately and reply with its result.\\n- Use the route computation tool for routing/distance/duration queries between two or more locations. If the user specifies a travel mode (Drive, Walk, Bicycle, Transit), use it. If not specified, use Drive as the default, mention this fact, and perform the tool call and reply with its result.\\n- DO NOT ask users to confirm if they clearly provided sufficient info for a tool call—proceed to call the tool and answer.\\n- If required input is genuinely ambiguous or missing (e.g., no address or coordinates or not enough data for the tool call), reply with 'Unkown'. Do NOT reply with a general invitation to provide info or with process confirmations like 'Let me check that...' or 'I'll process your request now.'\\n- Do NOT make up data—use only user input and information or results provided by tools within the conversation history.\\n- Honor specific user preferences (e.g., request for pedestrian route) if mentioned.\\n- NEVER reply with meta messages, generic confirmations, or intent restatements. Respond only with a tool result OR a specific data request.\\n\\nExamples:\\n- User: 'What address is at latitude 51.5237 and longitude -0.1585?'\\n  Agent: (call geocoding tool using those coordinates, respond concisely with the result)\\n- User: 'Directions from A to B.'\\n  Agent: (call route computation tool with default mode Drive, respond concisely with the result, including a note about defaulting to Drive)\\nThe user question to process:\\n---\\n{{payload.userMessage}}\\n\",\n",
       " 'promptTemplate': 'You are a location intelligence assistant. Always provide concise, professional, tool-based answers for GIS/work users. Never answer from your own knowledge or with conversational padding.',\n",
       " 'agentKind': 'Geo',\n",
       " 'promptId': 'f81a19aa-e918-4cc7-b9f3-0800362ba304',\n",
       " 'promptKind': 'Liquid',\n",
       " 'maxTokens': 1000,\n",
       " 'temperature': 0.3,\n",
       " 'description': 'Geo agent for geocoding and computing routes between locations.',\n",
       " 'modelDeploymentName': 'gpt-4o-dev-default'}"
      ]
     },
     "execution_count": 9,
     "metadata": {},
     "output_type": "execute_result"
    }
   ],
   "source": [
    "# Create an agent\n",
    "processor.create_agent(\n",
    "    agent_name = \"geolocation agent\",\n",
    "    description = \"Geo agent for geocoding and computing routes between locations.\",\n",
    "    instructions = (\n",
    "        \"You are a tool-using assistant designed specifically for geocoding (finding coordinates for an address or vice versa) and computing routes between locations.\\n\\n\"\n",
    "        \"Strictly follow these rules:\\n\"\n",
    "        \"- Your responses must be very concise and strictly professional—they are intended for GIS/business users, not for consumer or traveler enquiries.\\n\"\n",
    "        \"- You must ALWAYS call the correct tool for every actionable user request, never answer directly from your own knowledge.\\n\"\n",
    "        \"- Use the geocoding tool for address-to-coordinates or coordinates-to-address queries. If the user provides an address or a pair of latitude and longitude, call the geocoding tool immediately and reply with its result.\\n\"\n",
    "        \"- Use the route computation tool for routing/distance/duration queries between two or more locations. If the user specifies a travel mode (Drive, Walk, Bicycle, Transit), use it. If not specified, use Drive as the default, mention this fact, and perform the tool call and reply with its result.\\n\"\n",
    "        \"- DO NOT ask users to confirm if they clearly provided sufficient info for a tool call—proceed to call the tool and answer.\\n\"\n",
    "        \"- If required input is genuinely ambiguous or missing (e.g., no address or coordinates or not enough data for the tool call), reply with 'Unkown'. Do NOT reply with a general invitation to provide info or with process confirmations like 'Let me check that...' or 'I'll process your request now.'\\n\"\n",
    "        \"- Do NOT make up data—use only user input and information or results provided by tools within the conversation history.\\n\"\n",
    "        \"- Honor specific user preferences (e.g., request for pedestrian route) if mentioned.\\n\"\n",
    "        \"- NEVER reply with meta messages, generic confirmations, or intent restatements. Respond only with a tool result OR a specific data request.\\n\"\n",
    "        \"\\nExamples:\\n\"\n",
    "        \"- User: 'What address is at latitude 51.5237 and longitude -0.1585?'\\n\"\n",
    "        \"  Agent: (call geocoding tool using those coordinates, respond concisely with the result)\\n\"\n",
    "        \"- User: 'Directions from A to B.'\\n\"\n",
    "        \"  Agent: (call route computation tool with default mode Drive, respond concisely with the result, including a note about defaulting to Drive)\\n\"\n",
    "    ),\n",
    "    agent_kind = \"Geo\",\n",
    "    prompt_template = (\n",
    "        \"You are a location intelligence assistant. Always provide concise, professional, tool-based answers for GIS/work users. Never answer from your own knowledge or with conversational padding.\"\n",
    "    )\n",
    ")"
   ]
  },
  {
   "cell_type": "code",
   "execution_count": 10,
   "id": "7afd0440",
   "metadata": {},
   "outputs": [
    {
     "name": "stdout",
     "output_type": "stream",
     "text": [
      "{'response': 'Coordinates of the Tower of London: Latitude 51.5081, Longitude -0.0759.', 'conversation': []}\n"
     ]
    }
   ],
   "source": [
    "agent_response = processor.execute_agent(\n",
    "    handler_name = \"geolocation agent\",\n",
    "    user_message = \"What are the coordinates of the tower of london\",\n",
    "    agent_kind = \"Geo\")\n",
    "\n",
    "print(agent_response)"
   ]
  },
  {
   "cell_type": "code",
   "execution_count": 11,
   "id": "bd26fa94",
   "metadata": {},
   "outputs": [
    {
     "name": "stdout",
     "output_type": "stream",
     "text": [
      "{'response': 'The address for latitude 40.748817 and longitude -73.985428 is W 34 St & 5 Av, New York, NY 10001, USA.', 'conversation': []}\n"
     ]
    }
   ],
   "source": [
    "agent_response = processor.execute_agent(\n",
    "    handler_name = \"geolocation agent\",\n",
    "    user_message = \"What is the address for 40.748817, -73.985428?\",\n",
    "    agent_kind = \"Geo\")\n",
    "\n",
    "print(agent_response)"
   ]
  },
  {
   "cell_type": "markdown",
   "id": "d2396ed8",
   "metadata": {},
   "source": [
    "Example usage: Agent groups"
   ]
  },
  {
   "cell_type": "code",
   "execution_count": 12,
   "id": "efbd19bf",
   "metadata": {},
   "outputs": [
    {
     "data": {
      "text/plain": [
       "{'agentName': 'tour agent',\n",
       " 'clientId': 'middlemarketgb',\n",
       " 'instructions': 'You are an expert tour guide. You will be provided with an address\\n\\nYour task will be to provide touristy activities to do nearby the provided address.\\n\\nAvoid including restaurants or shops, and prioritize touristy locationsThe user question to process:\\n---\\n{{payload.userMessage}}\\n',\n",
       " 'promptTemplate': 'You are a touring assistant. Always provide concise, professional, tool-based answers for GIS/work users.',\n",
       " 'agentKind': 'General',\n",
       " 'promptId': '4c2452e3-542a-4525-b1cb-5aab78a7e421',\n",
       " 'promptKind': 'Liquid',\n",
       " 'maxTokens': 1000,\n",
       " 'temperature': 0.3,\n",
       " 'description': 'General agent for recomending activities in a given location.',\n",
       " 'modelDeploymentName': 'gpt-4o-dev-default'}"
      ]
     },
     "execution_count": 12,
     "metadata": {},
     "output_type": "execute_result"
    }
   ],
   "source": [
    "# Create a second agent for the group\n",
    "processor.create_agent(\n",
    "    agent_name = \"tour agent\",\n",
    "    description = \"General agent for recomending activities in a given location.\",\n",
    "    instructions = (\n",
    "        \"You are an expert tour guide. You will be provided with an address\\n\\n\"\n",
    "        \"Your task will be to provide touristy activities to do nearby the provided address.\\n\\n\"\n",
    "        \"Avoid including restaurants or shops, and prioritize touristy locations\"\n",
    "    ),\n",
    "    agent_kind = \"General\",\n",
    "    prompt_template = (\n",
    "        \"You are a touring assistant. Always provide concise, professional, tool-based answers for GIS/work users.\"\n",
    "    )\n",
    ")"
   ]
  },
  {
   "cell_type": "code",
   "execution_count": 15,
   "id": "cbfc2107",
   "metadata": {},
   "outputs": [],
   "source": [
    "agent_group = processor.create_agent_group(\n",
    "    agent_group_name=\"geo touring assistant\",\n",
    "    \n",
    "    orchestrator_instruction=(\n",
    "        \"You are the orchestrator named 'Geo Touring Assistant'. The user will send a set of coordinates. Your job will be to recomend touristy activities near the location provided by the user.\\r\\n\"\n",
    "        \"Strictly follow these instructions step-by-step:\\r\\n\"\n",
    "        \"1) Use the **geolocation agent** to obtain the address and city belonging to the set of coordinates provided by the user\"\n",
    "        \"2) If the geolocation agent does not return an address - ask him directly to provide an answer.\\r\\n\"\n",
    "        \"3) Then, send the response of the geolocation agent to the **tour agent** to obtain the touristy activities nearby that area\"\n",
    "        \"4) If the user query is not a set of coordinates, respond: 'please provide a set of coordinates'\\r\\n\"\n",
    "    ),\n",
    "    \n",
    "    selection_instruction=(\n",
    "        \"Choose only from these participants:\\r\\n\"\n",
    "        \"- geo touring assistant\\r\\n\"\n",
    "        \"- geolocation agent\\r\\n\"\n",
    "        \"- tour agent\\r\\n\\r\\n\"\n",
    "        \"Always follow these recomendations when selecting the next participant:\\r\\n\"\n",
    "        \"1) After user input, first call the **geolocation agent**.\\r\\n\"\n",
    "        \"2) Once the geolocation agent returns a valid address, call the **tour agent** using the address returned by the geolocation agent in the prompt.\\r\\n\"\n",
    "        \"3) Once the **tour agent** responds, evaluate the quality of the conversation.\\r\\n\"\n",
    "        \"4) If the answer is approved, the conversation ends.\\r\\n\"\n",
    "        \"5) If the answer is rejected, call the geolocation agent again.\"\n",
    "    ),\n",
    "    \n",
    "    result_quality_control_instruction=(\n",
    "        \"You can only respond with one of the following: 'approved' or 'rejected'.\\r\\n\"\n",
    "        \"Never use your own knowledge to answer the user's question. Never make up information.\\r\\n\"\n",
    "        \"Rules for evaluating:\\r\\n\"\n",
    "        \"1) If the tour agent gives a logical answer and does not ask for more help, respond with 'approved'.\\r\\n\"\n",
    "        \"2) If the tour agent gives an illogical answer or asks for additional help, respond with 'rejected'.\\r\\n\"\n",
    "        \"3) If there is no response from the tour agent, respond with 'rejected'.\"\n",
    "    ),\n",
    "    \n",
    "    agents=[\n",
    "        {\"agentName\": \"geolocation agent\", \"agentKind\": \"Geo\"},\n",
    "        {\"agentName\": \"tour agent\", \"agentKind\": \"General\"}\n",
    "    ]\n",
    ")\n"
   ]
  },
  {
   "cell_type": "code",
   "execution_count": 18,
   "id": "31e270cc",
   "metadata": {},
   "outputs": [
    {
     "name": "stdout",
     "output_type": "stream",
     "text": [
      "{'response': \"This location is near the Empire State Building in New York City. Here are some touristy activities you can enjoy nearby:\\n\\n1. **Empire State Building**: Visit the iconic skyscraper and enjoy breathtaking views of New York City from its observation decks.\\n\\n2. **Bryant Park**: A beautiful urban park offering a relaxing atmosphere with seasonal activities such as ice skating in the winter and outdoor movies in the summer.\\n\\n3. **New York Public Library**: Explore the stunning architecture and vast collection of books at this historic library.\\n\\n4. **Madison Square Garden**: Check out the schedule for concerts, sports events, and other entertainment happening at this famous venue.\\n\\n5. **Macy's Herald Square**: While primarily a shopping destination, Macy's also hosts events and has a rich history worth exploring.\\n\\n6. **Times Square**: Experience the vibrant lights and bustling atmosphere of one of the most famous intersections in the world.\\n\\n7. **The Museum of Modern Art (MoMA)**: Discover modern and contemporary art pieces from renowned artists.\\n\\n8. **Grand Central Terminal**: Admire the architectural beauty of this historic train station and its famous celestial ceiling.\\n\\nThese attractions offer a mix of cultural, historical, and entertainment experiences that are quintessentially New York.\", 'conversation': [{'agentName': 'geolocation agent', 'content': 'W 34 St & 5 Av, New York, NY 10001, USA'}]}\n"
     ]
    }
   ],
   "source": [
    "agent_response = processor.execute_agent(\n",
    "    agent_name = \"geo touring assistant\",\n",
    "    user_message = \"40.748817, -73.985428?\",\n",
    "    agent_kind=\"Group\")\n",
    "\n",
    "print(agent_response)"
   ]
  },
  {
   "cell_type": "code",
   "execution_count": 14,
   "id": "66324f49",
   "metadata": {},
   "outputs": [
    {
     "data": {
      "text/plain": [
       "b''"
      ]
     },
     "execution_count": 14,
     "metadata": {},
     "output_type": "execute_result"
    }
   ],
   "source": [
    "processor.delete_agent_group(\"geo touring assistant\")\n"
   ]
  }
 ],
 "metadata": {
  "kernelspec": {
   "display_name": ".venv",
   "language": "python",
   "name": "python3"
  },
  "language_info": {
   "codemirror_mode": {
    "name": "ipython",
    "version": 3
   },
   "file_extension": ".py",
   "mimetype": "text/x-python",
   "name": "python",
   "nbconvert_exporter": "python",
   "pygments_lexer": "ipython3",
   "version": "3.11.0"
  }
 },
 "nbformat": 4,
 "nbformat_minor": 5
}
