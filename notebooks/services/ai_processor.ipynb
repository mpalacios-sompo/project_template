{
 "cells": [
  {
   "cell_type": "markdown",
   "id": "d0a7dd83",
   "metadata": {},
   "source": [
    "Point to the correct directory"
   ]
  },
  {
   "cell_type": "code",
   "execution_count": 7,
   "id": "10aed708",
   "metadata": {},
   "outputs": [],
   "source": [
    "import sys\n",
    "import os\n",
    "from dotenv import load_dotenv\n",
    "\n",
    "# Get the absolute path to the project root (the parent of notebooks folder)\n",
    "project_root = os.path.abspath(os.path.join(os.getcwd(), \"..\", \"..\"))\n",
    "\n",
    "# Add it to sys.path so Python can find 'src'\n",
    "if project_root not in sys.path:\n",
    "    sys.path.insert(0, project_root)\n",
    "\n",
    "# Now you can import\n",
    "from src.services.ai_processor import AIProcessor\n",
    "from models.pydantic_classes import *\n"
   ]
  },
  {
   "cell_type": "code",
   "execution_count": 8,
   "id": "7b47cf5e",
   "metadata": {},
   "outputs": [
    {
     "data": {
      "text/plain": [
       "True"
      ]
     },
     "execution_count": 8,
     "metadata": {},
     "output_type": "execute_result"
    }
   ],
   "source": [
    "from src.config import BASE_URL\n",
    "\n",
    "load_dotenv()"
   ]
  },
  {
   "cell_type": "markdown",
   "id": "e1f0d57e",
   "metadata": {},
   "source": [
    "Example usage: Normal response"
   ]
  },
  {
   "cell_type": "code",
   "execution_count": 9,
   "id": "f1cd2725",
   "metadata": {},
   "outputs": [],
   "source": [
    "processor = AIProcessor(\n",
    "    base_url=BASE_URL, \n",
    "    api_key=os.getenv(\"API_KEY\"), \n",
    "    client=os.getenv(\"CLIENT_ID\"))"
   ]
  },
  {
   "cell_type": "code",
   "execution_count": 10,
   "id": "d25c7298",
   "metadata": {},
   "outputs": [
    {
     "name": "stdout",
     "output_type": "stream",
     "text": [
      "content='Here are the valid capital-city and country pairs from the list:\\n\\n- Paris, France\\n- Rome, Italy\\n- Berlin, Germany\\n- Madrid, Spain' additional_kwargs={'refusal': None} response_metadata={'token_usage': {'completion_tokens': 33, 'prompt_tokens': 50, 'total_tokens': 83, 'completion_tokens_details': None, 'prompt_tokens_details': None}, 'model_name': 'gpt-4o-dev-default', 'system_fingerprint': 'fp_ee1d74bde0', 'id': 'chatcmpl-Bz1FeBmIlaYpJu0D9jnadgBYpim77', 'service_tier': None, 'finish_reason': 'Stop', 'logprobs': None, 'content_filter_results': {}} id='run--95b07580-d262-4b4d-bb85-b154b140548e-0' usage_metadata={'input_tokens': 50, 'output_tokens': 33, 'total_tokens': 83, 'input_token_details': {}, 'output_token_details': {}}\n"
     ]
    }
   ],
   "source": [
    "# Can specigy model, defaults to gpt-4\n",
    "response = processor.generate_completion(\n",
    "    system_prompt=\"You will receive a list of cities and countries in the user message. Your job is to extract valid capital-city and country pairs\",\n",
    "    user_prompt=\"paris rome valencia madrid germany berlin tolouse madrid italy france\",\n",
    "    model=\"gpt-4o\",\n",
    "    temperature=0,\n",
    "    max_tokens=1000\n",
    ")\n",
    "\n",
    "print(response)"
   ]
  },
  {
   "cell_type": "markdown",
   "id": "466a10e5",
   "metadata": {},
   "source": [
    "Example usage: Structured output"
   ]
  },
  {
   "cell_type": "code",
   "execution_count": 11,
   "id": "1211ab0c",
   "metadata": {},
   "outputs": [],
   "source": [
    "response = processor.generate_completion(\n",
    "    system_prompt=\"You will receive a list of cities and countries in the user message. Your job is to extract valid capital-city and country pairs\",\n",
    "    user_prompt=\"paris rome valencia madrid germany berlin tolouse madrid italy france\",\n",
    "    pydantic_schema=Response,\n",
    "    temperature=0,\n",
    "    max_tokens=1000\n",
    ")"
   ]
  },
  {
   "cell_type": "code",
   "execution_count": 12,
   "id": "a726dcfb",
   "metadata": {},
   "outputs": [
    {
     "name": "stdout",
     "output_type": "stream",
     "text": [
      "{'response': [{'city': 'Paris', 'country': 'France'}, {'city': 'Rome', 'country': 'Italy'}, {'city': 'Berlin', 'country': 'Germany'}]}\n"
     ]
    }
   ],
   "source": [
    "print(response)"
   ]
  },
  {
   "cell_type": "markdown",
   "id": "cb21ab3c",
   "metadata": {},
   "source": [
    "Example usage: Getting the embeddings"
   ]
  },
  {
   "cell_type": "code",
   "execution_count": null,
   "id": "6ba480d1",
   "metadata": {},
   "outputs": [],
   "source": [
    "response = processor.generate_embeddings(\n",
    "    input_text=\"paris rome valencia madrid germany berlin tolouse madrid italy france\"\n",
    ")"
   ]
  }
 ],
 "metadata": {
  "kernelspec": {
   "display_name": ".venv",
   "language": "python",
   "name": "python3"
  },
  "language_info": {
   "codemirror_mode": {
    "name": "ipython",
    "version": 3
   },
   "file_extension": ".py",
   "mimetype": "text/x-python",
   "name": "python",
   "nbconvert_exporter": "python",
   "pygments_lexer": "ipython3",
   "version": "3.11.0"
  }
 },
 "nbformat": 4,
 "nbformat_minor": 5
}
